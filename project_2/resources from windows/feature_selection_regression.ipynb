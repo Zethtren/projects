{
 "cells": [
  {
   "cell_type": "markdown",
   "metadata": {},
   "source": [
    "# AMES Housing Project"
   ]
  },
  {
   "cell_type": "markdown",
   "metadata": {},
   "source": [
    "## Pre-Work"
   ]
  },
  {
   "cell_type": "code",
   "execution_count": 21,
   "metadata": {},
   "outputs": [],
   "source": [
    "import numpy as np\n",
    "import pandas as pd\n",
    "import matplotlib.pyplot as plt\n",
    "import seaborn as sns\n",
    "\n",
    "from sklearn.linear_model import LinearRegression\n",
    "from sklearn.model_selection import train_test_split, cross_val_score\n",
    "from sklearn.preprocessing import PolynomialFeatures, StandardScaler"
   ]
  },
  {
   "cell_type": "markdown",
   "metadata": {},
   "source": [
    "#### Pull in Data"
   ]
  },
  {
   "cell_type": "code",
   "execution_count": 22,
   "metadata": {},
   "outputs": [],
   "source": [
    "train = pd.read_csv('./datasets/train.csv')\n",
    "test = pd.read_csv('./datasets/test.csv')"
   ]
  },
  {
   "cell_type": "markdown",
   "metadata": {},
   "source": [
    "#### Shapes and columns"
   ]
  },
  {
   "cell_type": "code",
   "execution_count": 23,
   "metadata": {},
   "outputs": [
    {
     "data": {
      "text/plain": [
       "(2051, 81)"
      ]
     },
     "execution_count": 23,
     "metadata": {},
     "output_type": "execute_result"
    }
   ],
   "source": [
    "train.shape"
   ]
  },
  {
   "cell_type": "code",
   "execution_count": 24,
   "metadata": {},
   "outputs": [
    {
     "data": {
      "text/plain": [
       "(878, 80)"
      ]
     },
     "execution_count": 24,
     "metadata": {},
     "output_type": "execute_result"
    }
   ],
   "source": [
    "test.shape"
   ]
  },
  {
   "cell_type": "code",
   "execution_count": 25,
   "metadata": {},
   "outputs": [],
   "source": [
    "numerical_train = train.select_dtypes(['number'])"
   ]
  },
  {
   "cell_type": "code",
   "execution_count": 26,
   "metadata": {},
   "outputs": [
    {
     "data": {
      "text/plain": [
       "Index(['MS Zoning', 'Street', 'Alley', 'Lot Shape', 'Land Contour',\n",
       "       'Utilities', 'Lot Config', 'Land Slope', 'Neighborhood', 'Condition 1',\n",
       "       'Condition 2', 'Bldg Type', 'House Style', 'Roof Style', 'Roof Matl',\n",
       "       'Exterior 1st', 'Exterior 2nd', 'Mas Vnr Type', 'Exter Qual',\n",
       "       'Exter Cond', 'Foundation', 'Bsmt Qual', 'Bsmt Cond', 'Bsmt Exposure',\n",
       "       'BsmtFin Type 1', 'BsmtFin Type 2', 'Heating', 'Heating QC',\n",
       "       'Central Air', 'Electrical', 'Kitchen Qual', 'Functional',\n",
       "       'Fireplace Qu', 'Garage Type', 'Garage Finish', 'Garage Qual',\n",
       "       'Garage Cond', 'Paved Drive', 'Pool QC', 'Fence', 'Misc Feature',\n",
       "       'Sale Type'],\n",
       "      dtype='object')"
      ]
     },
     "execution_count": 26,
     "metadata": {},
     "output_type": "execute_result"
    }
   ],
   "source": [
    "train.select_dtypes('object').columns"
   ]
  },
  {
   "cell_type": "code",
   "execution_count": 27,
   "metadata": {},
   "outputs": [],
   "source": [
    "all_train_dummies = pd.get_dummies(train, columns= train.select_dtypes('object').columns)\n",
    "all_test_dummies = pd.get_dummies(test, columns= train.select_dtypes('object').columns)"
   ]
  },
  {
   "cell_type": "code",
   "execution_count": 28,
   "metadata": {},
   "outputs": [
    {
     "data": {
      "text/html": [
       "<div>\n",
       "<style scoped>\n",
       "    .dataframe tbody tr th:only-of-type {\n",
       "        vertical-align: middle;\n",
       "    }\n",
       "\n",
       "    .dataframe tbody tr th {\n",
       "        vertical-align: top;\n",
       "    }\n",
       "\n",
       "    .dataframe thead th {\n",
       "        text-align: right;\n",
       "    }\n",
       "</style>\n",
       "<table border=\"1\" class=\"dataframe\">\n",
       "  <thead>\n",
       "    <tr style=\"text-align: right;\">\n",
       "      <th></th>\n",
       "      <th>Id</th>\n",
       "      <th>PID</th>\n",
       "      <th>MS SubClass</th>\n",
       "      <th>Lot Frontage</th>\n",
       "      <th>Lot Area</th>\n",
       "      <th>Overall Qual</th>\n",
       "      <th>Overall Cond</th>\n",
       "      <th>Year Built</th>\n",
       "      <th>Year Remod/Add</th>\n",
       "      <th>Mas Vnr Area</th>\n",
       "      <th>...</th>\n",
       "      <th>Misc Feature_TenC</th>\n",
       "      <th>Sale Type_COD</th>\n",
       "      <th>Sale Type_CWD</th>\n",
       "      <th>Sale Type_Con</th>\n",
       "      <th>Sale Type_ConLD</th>\n",
       "      <th>Sale Type_ConLI</th>\n",
       "      <th>Sale Type_ConLw</th>\n",
       "      <th>Sale Type_New</th>\n",
       "      <th>Sale Type_Oth</th>\n",
       "      <th>Sale Type_WD</th>\n",
       "    </tr>\n",
       "  </thead>\n",
       "  <tbody>\n",
       "    <tr>\n",
       "      <th>0</th>\n",
       "      <td>109</td>\n",
       "      <td>533352170</td>\n",
       "      <td>60</td>\n",
       "      <td>NaN</td>\n",
       "      <td>13517</td>\n",
       "      <td>6</td>\n",
       "      <td>8</td>\n",
       "      <td>1976</td>\n",
       "      <td>2005</td>\n",
       "      <td>289.0</td>\n",
       "      <td>...</td>\n",
       "      <td>0</td>\n",
       "      <td>0</td>\n",
       "      <td>0</td>\n",
       "      <td>0</td>\n",
       "      <td>0</td>\n",
       "      <td>0</td>\n",
       "      <td>0</td>\n",
       "      <td>0</td>\n",
       "      <td>0</td>\n",
       "      <td>1</td>\n",
       "    </tr>\n",
       "    <tr>\n",
       "      <th>1</th>\n",
       "      <td>544</td>\n",
       "      <td>531379050</td>\n",
       "      <td>60</td>\n",
       "      <td>43.0</td>\n",
       "      <td>11492</td>\n",
       "      <td>7</td>\n",
       "      <td>5</td>\n",
       "      <td>1996</td>\n",
       "      <td>1997</td>\n",
       "      <td>132.0</td>\n",
       "      <td>...</td>\n",
       "      <td>0</td>\n",
       "      <td>0</td>\n",
       "      <td>0</td>\n",
       "      <td>0</td>\n",
       "      <td>0</td>\n",
       "      <td>0</td>\n",
       "      <td>0</td>\n",
       "      <td>0</td>\n",
       "      <td>0</td>\n",
       "      <td>1</td>\n",
       "    </tr>\n",
       "    <tr>\n",
       "      <th>2</th>\n",
       "      <td>153</td>\n",
       "      <td>535304180</td>\n",
       "      <td>20</td>\n",
       "      <td>68.0</td>\n",
       "      <td>7922</td>\n",
       "      <td>5</td>\n",
       "      <td>7</td>\n",
       "      <td>1953</td>\n",
       "      <td>2007</td>\n",
       "      <td>0.0</td>\n",
       "      <td>...</td>\n",
       "      <td>0</td>\n",
       "      <td>0</td>\n",
       "      <td>0</td>\n",
       "      <td>0</td>\n",
       "      <td>0</td>\n",
       "      <td>0</td>\n",
       "      <td>0</td>\n",
       "      <td>0</td>\n",
       "      <td>0</td>\n",
       "      <td>1</td>\n",
       "    </tr>\n",
       "    <tr>\n",
       "      <th>3</th>\n",
       "      <td>318</td>\n",
       "      <td>916386060</td>\n",
       "      <td>60</td>\n",
       "      <td>73.0</td>\n",
       "      <td>9802</td>\n",
       "      <td>5</td>\n",
       "      <td>5</td>\n",
       "      <td>2006</td>\n",
       "      <td>2007</td>\n",
       "      <td>0.0</td>\n",
       "      <td>...</td>\n",
       "      <td>0</td>\n",
       "      <td>0</td>\n",
       "      <td>0</td>\n",
       "      <td>0</td>\n",
       "      <td>0</td>\n",
       "      <td>0</td>\n",
       "      <td>0</td>\n",
       "      <td>0</td>\n",
       "      <td>0</td>\n",
       "      <td>1</td>\n",
       "    </tr>\n",
       "    <tr>\n",
       "      <th>4</th>\n",
       "      <td>255</td>\n",
       "      <td>906425045</td>\n",
       "      <td>50</td>\n",
       "      <td>82.0</td>\n",
       "      <td>14235</td>\n",
       "      <td>6</td>\n",
       "      <td>8</td>\n",
       "      <td>1900</td>\n",
       "      <td>1993</td>\n",
       "      <td>0.0</td>\n",
       "      <td>...</td>\n",
       "      <td>0</td>\n",
       "      <td>0</td>\n",
       "      <td>0</td>\n",
       "      <td>0</td>\n",
       "      <td>0</td>\n",
       "      <td>0</td>\n",
       "      <td>0</td>\n",
       "      <td>0</td>\n",
       "      <td>0</td>\n",
       "      <td>1</td>\n",
       "    </tr>\n",
       "    <tr>\n",
       "      <th>...</th>\n",
       "      <td>...</td>\n",
       "      <td>...</td>\n",
       "      <td>...</td>\n",
       "      <td>...</td>\n",
       "      <td>...</td>\n",
       "      <td>...</td>\n",
       "      <td>...</td>\n",
       "      <td>...</td>\n",
       "      <td>...</td>\n",
       "      <td>...</td>\n",
       "      <td>...</td>\n",
       "      <td>...</td>\n",
       "      <td>...</td>\n",
       "      <td>...</td>\n",
       "      <td>...</td>\n",
       "      <td>...</td>\n",
       "      <td>...</td>\n",
       "      <td>...</td>\n",
       "      <td>...</td>\n",
       "      <td>...</td>\n",
       "      <td>...</td>\n",
       "    </tr>\n",
       "    <tr>\n",
       "      <th>2046</th>\n",
       "      <td>1587</td>\n",
       "      <td>921126030</td>\n",
       "      <td>20</td>\n",
       "      <td>79.0</td>\n",
       "      <td>11449</td>\n",
       "      <td>8</td>\n",
       "      <td>5</td>\n",
       "      <td>2007</td>\n",
       "      <td>2007</td>\n",
       "      <td>0.0</td>\n",
       "      <td>...</td>\n",
       "      <td>0</td>\n",
       "      <td>0</td>\n",
       "      <td>0</td>\n",
       "      <td>0</td>\n",
       "      <td>0</td>\n",
       "      <td>0</td>\n",
       "      <td>0</td>\n",
       "      <td>0</td>\n",
       "      <td>0</td>\n",
       "      <td>1</td>\n",
       "    </tr>\n",
       "    <tr>\n",
       "      <th>2047</th>\n",
       "      <td>785</td>\n",
       "      <td>905377130</td>\n",
       "      <td>30</td>\n",
       "      <td>NaN</td>\n",
       "      <td>12342</td>\n",
       "      <td>4</td>\n",
       "      <td>5</td>\n",
       "      <td>1940</td>\n",
       "      <td>1950</td>\n",
       "      <td>0.0</td>\n",
       "      <td>...</td>\n",
       "      <td>0</td>\n",
       "      <td>0</td>\n",
       "      <td>0</td>\n",
       "      <td>0</td>\n",
       "      <td>0</td>\n",
       "      <td>0</td>\n",
       "      <td>0</td>\n",
       "      <td>0</td>\n",
       "      <td>0</td>\n",
       "      <td>1</td>\n",
       "    </tr>\n",
       "    <tr>\n",
       "      <th>2048</th>\n",
       "      <td>916</td>\n",
       "      <td>909253010</td>\n",
       "      <td>50</td>\n",
       "      <td>57.0</td>\n",
       "      <td>7558</td>\n",
       "      <td>6</td>\n",
       "      <td>6</td>\n",
       "      <td>1928</td>\n",
       "      <td>1950</td>\n",
       "      <td>0.0</td>\n",
       "      <td>...</td>\n",
       "      <td>0</td>\n",
       "      <td>0</td>\n",
       "      <td>0</td>\n",
       "      <td>0</td>\n",
       "      <td>0</td>\n",
       "      <td>0</td>\n",
       "      <td>0</td>\n",
       "      <td>0</td>\n",
       "      <td>0</td>\n",
       "      <td>1</td>\n",
       "    </tr>\n",
       "    <tr>\n",
       "      <th>2049</th>\n",
       "      <td>639</td>\n",
       "      <td>535179160</td>\n",
       "      <td>20</td>\n",
       "      <td>80.0</td>\n",
       "      <td>10400</td>\n",
       "      <td>4</td>\n",
       "      <td>5</td>\n",
       "      <td>1956</td>\n",
       "      <td>1956</td>\n",
       "      <td>0.0</td>\n",
       "      <td>...</td>\n",
       "      <td>0</td>\n",
       "      <td>0</td>\n",
       "      <td>0</td>\n",
       "      <td>0</td>\n",
       "      <td>0</td>\n",
       "      <td>0</td>\n",
       "      <td>0</td>\n",
       "      <td>0</td>\n",
       "      <td>0</td>\n",
       "      <td>1</td>\n",
       "    </tr>\n",
       "    <tr>\n",
       "      <th>2050</th>\n",
       "      <td>10</td>\n",
       "      <td>527162130</td>\n",
       "      <td>60</td>\n",
       "      <td>60.0</td>\n",
       "      <td>7500</td>\n",
       "      <td>7</td>\n",
       "      <td>5</td>\n",
       "      <td>1999</td>\n",
       "      <td>1999</td>\n",
       "      <td>0.0</td>\n",
       "      <td>...</td>\n",
       "      <td>0</td>\n",
       "      <td>0</td>\n",
       "      <td>0</td>\n",
       "      <td>0</td>\n",
       "      <td>0</td>\n",
       "      <td>0</td>\n",
       "      <td>0</td>\n",
       "      <td>0</td>\n",
       "      <td>0</td>\n",
       "      <td>1</td>\n",
       "    </tr>\n",
       "  </tbody>\n",
       "</table>\n",
       "<p>2051 rows × 292 columns</p>\n",
       "</div>"
      ],
      "text/plain": [
       "        Id        PID  MS SubClass  Lot Frontage  Lot Area  Overall Qual  \\\n",
       "0      109  533352170           60           NaN     13517             6   \n",
       "1      544  531379050           60          43.0     11492             7   \n",
       "2      153  535304180           20          68.0      7922             5   \n",
       "3      318  916386060           60          73.0      9802             5   \n",
       "4      255  906425045           50          82.0     14235             6   \n",
       "...    ...        ...          ...           ...       ...           ...   \n",
       "2046  1587  921126030           20          79.0     11449             8   \n",
       "2047   785  905377130           30           NaN     12342             4   \n",
       "2048   916  909253010           50          57.0      7558             6   \n",
       "2049   639  535179160           20          80.0     10400             4   \n",
       "2050    10  527162130           60          60.0      7500             7   \n",
       "\n",
       "      Overall Cond  Year Built  Year Remod/Add  Mas Vnr Area  ...  \\\n",
       "0                8        1976            2005         289.0  ...   \n",
       "1                5        1996            1997         132.0  ...   \n",
       "2                7        1953            2007           0.0  ...   \n",
       "3                5        2006            2007           0.0  ...   \n",
       "4                8        1900            1993           0.0  ...   \n",
       "...            ...         ...             ...           ...  ...   \n",
       "2046             5        2007            2007           0.0  ...   \n",
       "2047             5        1940            1950           0.0  ...   \n",
       "2048             6        1928            1950           0.0  ...   \n",
       "2049             5        1956            1956           0.0  ...   \n",
       "2050             5        1999            1999           0.0  ...   \n",
       "\n",
       "      Misc Feature_TenC  Sale Type_COD  Sale Type_CWD  Sale Type_Con  \\\n",
       "0                     0              0              0              0   \n",
       "1                     0              0              0              0   \n",
       "2                     0              0              0              0   \n",
       "3                     0              0              0              0   \n",
       "4                     0              0              0              0   \n",
       "...                 ...            ...            ...            ...   \n",
       "2046                  0              0              0              0   \n",
       "2047                  0              0              0              0   \n",
       "2048                  0              0              0              0   \n",
       "2049                  0              0              0              0   \n",
       "2050                  0              0              0              0   \n",
       "\n",
       "      Sale Type_ConLD  Sale Type_ConLI  Sale Type_ConLw  Sale Type_New  \\\n",
       "0                   0                0                0              0   \n",
       "1                   0                0                0              0   \n",
       "2                   0                0                0              0   \n",
       "3                   0                0                0              0   \n",
       "4                   0                0                0              0   \n",
       "...               ...              ...              ...            ...   \n",
       "2046                0                0                0              0   \n",
       "2047                0                0                0              0   \n",
       "2048                0                0                0              0   \n",
       "2049                0                0                0              0   \n",
       "2050                0                0                0              0   \n",
       "\n",
       "      Sale Type_Oth  Sale Type_WD   \n",
       "0                 0              1  \n",
       "1                 0              1  \n",
       "2                 0              1  \n",
       "3                 0              1  \n",
       "4                 0              1  \n",
       "...             ...            ...  \n",
       "2046              0              1  \n",
       "2047              0              1  \n",
       "2048              0              1  \n",
       "2049              0              1  \n",
       "2050              0              1  \n",
       "\n",
       "[2051 rows x 292 columns]"
      ]
     },
     "execution_count": 28,
     "metadata": {},
     "output_type": "execute_result"
    }
   ],
   "source": [
    "all_train_dummies"
   ]
  },
  {
   "cell_type": "code",
   "execution_count": 29,
   "metadata": {},
   "outputs": [
    {
     "name": "stdout",
     "output_type": "stream",
     "text": [
      "<class 'pandas.core.frame.DataFrame'>\n",
      "RangeIndex: 878 entries, 0 to 877\n",
      "Data columns (total 80 columns):\n",
      "Id                 878 non-null int64\n",
      "PID                878 non-null int64\n",
      "MS SubClass        878 non-null int64\n",
      "MS Zoning          878 non-null object\n",
      "Lot Frontage       718 non-null float64\n",
      "Lot Area           878 non-null int64\n",
      "Street             878 non-null object\n",
      "Alley              58 non-null object\n",
      "Lot Shape          878 non-null object\n",
      "Land Contour       878 non-null object\n",
      "Utilities          878 non-null object\n",
      "Lot Config         878 non-null object\n",
      "Land Slope         878 non-null object\n",
      "Neighborhood       878 non-null object\n",
      "Condition 1        878 non-null object\n",
      "Condition 2        878 non-null object\n",
      "Bldg Type          878 non-null object\n",
      "House Style        878 non-null object\n",
      "Overall Qual       878 non-null int64\n",
      "Overall Cond       878 non-null int64\n",
      "Year Built         878 non-null int64\n",
      "Year Remod/Add     878 non-null int64\n",
      "Roof Style         878 non-null object\n",
      "Roof Matl          878 non-null object\n",
      "Exterior 1st       878 non-null object\n",
      "Exterior 2nd       878 non-null object\n",
      "Mas Vnr Type       877 non-null object\n",
      "Mas Vnr Area       877 non-null float64\n",
      "Exter Qual         878 non-null object\n",
      "Exter Cond         878 non-null object\n",
      "Foundation         878 non-null object\n",
      "Bsmt Qual          853 non-null object\n",
      "Bsmt Cond          853 non-null object\n",
      "Bsmt Exposure      853 non-null object\n",
      "BsmtFin Type 1     853 non-null object\n",
      "BsmtFin SF 1       878 non-null int64\n",
      "BsmtFin Type 2     853 non-null object\n",
      "BsmtFin SF 2       878 non-null int64\n",
      "Bsmt Unf SF        878 non-null int64\n",
      "Total Bsmt SF      878 non-null int64\n",
      "Heating            878 non-null object\n",
      "Heating QC         878 non-null object\n",
      "Central Air        878 non-null object\n",
      "Electrical         877 non-null object\n",
      "1st Flr SF         878 non-null int64\n",
      "2nd Flr SF         878 non-null int64\n",
      "Low Qual Fin SF    878 non-null int64\n",
      "Gr Liv Area        878 non-null int64\n",
      "Bsmt Full Bath     878 non-null int64\n",
      "Bsmt Half Bath     878 non-null int64\n",
      "Full Bath          878 non-null int64\n",
      "Half Bath          878 non-null int64\n",
      "Bedroom AbvGr      878 non-null int64\n",
      "Kitchen AbvGr      878 non-null int64\n",
      "Kitchen Qual       878 non-null object\n",
      "TotRms AbvGrd      878 non-null int64\n",
      "Functional         878 non-null object\n",
      "Fireplaces         878 non-null int64\n",
      "Fireplace Qu       456 non-null object\n",
      "Garage Type        834 non-null object\n",
      "Garage Yr Blt      833 non-null float64\n",
      "Garage Finish      833 non-null object\n",
      "Garage Cars        878 non-null int64\n",
      "Garage Area        878 non-null int64\n",
      "Garage Qual        833 non-null object\n",
      "Garage Cond        833 non-null object\n",
      "Paved Drive        878 non-null object\n",
      "Wood Deck SF       878 non-null int64\n",
      "Open Porch SF      878 non-null int64\n",
      "Enclosed Porch     878 non-null int64\n",
      "3Ssn Porch         878 non-null int64\n",
      "Screen Porch       878 non-null int64\n",
      "Pool Area          878 non-null int64\n",
      "Pool QC            4 non-null object\n",
      "Fence              172 non-null object\n",
      "Misc Feature       41 non-null object\n",
      "Misc Val           878 non-null int64\n",
      "Mo Sold            878 non-null int64\n",
      "Yr Sold            878 non-null int64\n",
      "Sale Type          878 non-null object\n",
      "dtypes: float64(3), int64(35), object(42)\n",
      "memory usage: 548.9+ KB\n"
     ]
    }
   ],
   "source": [
    "test.info()"
   ]
  },
  {
   "cell_type": "markdown",
   "metadata": {},
   "source": [
    "#### Look for good initial variables"
   ]
  },
  {
   "cell_type": "code",
   "execution_count": 30,
   "metadata": {},
   "outputs": [],
   "source": [
    "top_25_corr =(train.corr()[['SalePrice']]\n",
    "                   .sort_values(by='SalePrice',\n",
    "                                ascending=False)\n",
    "                   .head(25))"
   ]
  },
  {
   "cell_type": "code",
   "execution_count": 31,
   "metadata": {},
   "outputs": [
    {
     "data": {
      "image/png": "[encoded data removed]",
      "text/plain": [
       "<Figure size 72x720 with 2 Axes>"
      ]
     },
     "metadata": {
      "needs_background": "light"
     },
     "output_type": "display_data"
    }
   ],
   "source": [
    "plt.figure(figsize=(1,10))\n",
    "sns.heatmap(top_25_corr,\n",
    "            annot=True,\n",
    "            cmap='coolwarm',\n",
    "            vmin=-1);"
   ]
  },
  {
   "cell_type": "code",
   "execution_count": 32,
   "metadata": {},
   "outputs": [
    {
     "data": {
      "text/plain": [
       "Index(['SalePrice', 'Overall Qual', 'Gr Liv Area', 'Garage Area',\n",
       "       'Garage Cars', 'Total Bsmt SF', '1st Flr SF', 'Year Built',\n",
       "       'Year Remod/Add', 'Full Bath', 'Garage Yr Blt', 'Mas Vnr Area'],\n",
       "      dtype='object')"
      ]
     },
     "execution_count": 32,
     "metadata": {},
     "output_type": "execute_result"
    }
   ],
   "source": [
    "top_25_corr.index[0:12]"
   ]
  },
  {
   "cell_type": "code",
   "execution_count": 33,
   "metadata": {},
   "outputs": [
    {
     "data": {
      "text/plain": [
       "SalePrice         0\n",
       "Overall Qual      0\n",
       "Gr Liv Area       0\n",
       "Garage Area       1\n",
       "Garage Cars       1\n",
       "Total Bsmt SF     1\n",
       "1st Flr SF        0\n",
       "Year Built        0\n",
       "Year Remod/Add    0\n",
       "Full Bath         0\n",
       "dtype: int64"
      ]
     },
     "execution_count": 33,
     "metadata": {},
     "output_type": "execute_result"
    }
   ],
   "source": [
    "train[top_25_corr.index[0:10]].isnull().sum()"
   ]
  },
  {
   "cell_type": "code",
   "execution_count": 34,
   "metadata": {},
   "outputs": [],
   "source": [
    "df = train[top_25_corr.index[0:10]]"
   ]
  },
  {
   "cell_type": "code",
   "execution_count": 35,
   "metadata": {},
   "outputs": [],
   "source": [
    "for column in df.columns:\n",
    "    df[column].fillna(df[column].mean(), inplace=True)"
   ]
  },
  {
   "cell_type": "code",
   "execution_count": 36,
   "metadata": {},
   "outputs": [
    {
     "data": {
      "text/plain": [
       "SalePrice         0\n",
       "Overall Qual      0\n",
       "Gr Liv Area       0\n",
       "Garage Area       0\n",
       "Garage Cars       0\n",
       "Total Bsmt SF     0\n",
       "1st Flr SF        0\n",
       "Year Built        0\n",
       "Year Remod/Add    0\n",
       "Full Bath         0\n",
       "dtype: int64"
      ]
     },
     "execution_count": 36,
     "metadata": {},
     "output_type": "execute_result"
    }
   ],
   "source": [
    "df.isnull().sum()"
   ]
  },
  {
   "cell_type": "code",
   "execution_count": 37,
   "metadata": {},
   "outputs": [
    {
     "data": {
      "text/html": [
       "<div>\n",
       "<style scoped>\n",
       "    .dataframe tbody tr th:only-of-type {\n",
       "        vertical-align: middle;\n",
       "    }\n",
       "\n",
       "    .dataframe tbody tr th {\n",
       "        vertical-align: top;\n",
       "    }\n",
       "\n",
       "    .dataframe thead th {\n",
       "        text-align: right;\n",
       "    }\n",
       "</style>\n",
       "<table border=\"1\" class=\"dataframe\">\n",
       "  <thead>\n",
       "    <tr style=\"text-align: right;\">\n",
       "      <th></th>\n",
       "      <th>SalePrice</th>\n",
       "      <th>Overall Qual</th>\n",
       "      <th>Gr Liv Area</th>\n",
       "      <th>Garage Area</th>\n",
       "      <th>Garage Cars</th>\n",
       "      <th>Total Bsmt SF</th>\n",
       "      <th>1st Flr SF</th>\n",
       "      <th>Year Built</th>\n",
       "      <th>Year Remod/Add</th>\n",
       "      <th>Full Bath</th>\n",
       "    </tr>\n",
       "  </thead>\n",
       "  <tbody>\n",
       "    <tr>\n",
       "      <th>0</th>\n",
       "      <td>130500</td>\n",
       "      <td>6</td>\n",
       "      <td>1479</td>\n",
       "      <td>475.0</td>\n",
       "      <td>2.0</td>\n",
       "      <td>725.0</td>\n",
       "      <td>725</td>\n",
       "      <td>1976</td>\n",
       "      <td>2005</td>\n",
       "      <td>2</td>\n",
       "    </tr>\n",
       "    <tr>\n",
       "      <th>1</th>\n",
       "      <td>220000</td>\n",
       "      <td>7</td>\n",
       "      <td>2122</td>\n",
       "      <td>559.0</td>\n",
       "      <td>2.0</td>\n",
       "      <td>913.0</td>\n",
       "      <td>913</td>\n",
       "      <td>1996</td>\n",
       "      <td>1997</td>\n",
       "      <td>2</td>\n",
       "    </tr>\n",
       "    <tr>\n",
       "      <th>2</th>\n",
       "      <td>109000</td>\n",
       "      <td>5</td>\n",
       "      <td>1057</td>\n",
       "      <td>246.0</td>\n",
       "      <td>1.0</td>\n",
       "      <td>1057.0</td>\n",
       "      <td>1057</td>\n",
       "      <td>1953</td>\n",
       "      <td>2007</td>\n",
       "      <td>1</td>\n",
       "    </tr>\n",
       "    <tr>\n",
       "      <th>3</th>\n",
       "      <td>174000</td>\n",
       "      <td>5</td>\n",
       "      <td>1444</td>\n",
       "      <td>400.0</td>\n",
       "      <td>2.0</td>\n",
       "      <td>384.0</td>\n",
       "      <td>744</td>\n",
       "      <td>2006</td>\n",
       "      <td>2007</td>\n",
       "      <td>2</td>\n",
       "    </tr>\n",
       "    <tr>\n",
       "      <th>4</th>\n",
       "      <td>138500</td>\n",
       "      <td>6</td>\n",
       "      <td>1445</td>\n",
       "      <td>484.0</td>\n",
       "      <td>2.0</td>\n",
       "      <td>676.0</td>\n",
       "      <td>831</td>\n",
       "      <td>1900</td>\n",
       "      <td>1993</td>\n",
       "      <td>2</td>\n",
       "    </tr>\n",
       "  </tbody>\n",
       "</table>\n",
       "</div>"
      ],
      "text/plain": [
       "   SalePrice  Overall Qual  Gr Liv Area  Garage Area  Garage Cars  \\\n",
       "0     130500             6         1479        475.0          2.0   \n",
       "1     220000             7         2122        559.0          2.0   \n",
       "2     109000             5         1057        246.0          1.0   \n",
       "3     174000             5         1444        400.0          2.0   \n",
       "4     138500             6         1445        484.0          2.0   \n",
       "\n",
       "   Total Bsmt SF  1st Flr SF  Year Built  Year Remod/Add  Full Bath  \n",
       "0          725.0         725        1976            2005          2  \n",
       "1          913.0         913        1996            1997          2  \n",
       "2         1057.0        1057        1953            2007          1  \n",
       "3          384.0         744        2006            2007          2  \n",
       "4          676.0         831        1900            1993          2  "
      ]
     },
     "execution_count": 37,
     "metadata": {},
     "output_type": "execute_result"
    }
   ],
   "source": [
    "df.head()"
   ]
  },
  {
   "cell_type": "markdown",
   "metadata": {},
   "source": [
    "#### Train-Test Split"
   ]
  },
  {
   "cell_type": "code",
   "execution_count": 38,
   "metadata": {},
   "outputs": [],
   "source": [
    "X = df.drop('SalePrice', axis=1)\n",
    "y = df['SalePrice']\n",
    "\n",
    "X_train, X_test, y_train, y_test = train_test_split(X, y,\n",
    "                                                   random_state=42)\n"
   ]
  },
  {
   "cell_type": "markdown",
   "metadata": {},
   "source": [
    "## Modeling\n",
    "#### Linear Regression"
   ]
  },
  {
   "cell_type": "code",
   "execution_count": 39,
   "metadata": {},
   "outputs": [
    {
     "name": "stdout",
     "output_type": "stream",
     "text": [
      "0.7758377868689263\n",
      "0.839314366397803\n",
      "0.7861179297097186\n"
     ]
    }
   ],
   "source": [
    "lr = LinearRegression()\n",
    "lr.fit(X_train, y_train)\n",
    "print(lr.score(X_train, y_train))\n",
    "print(lr.score(X_test, y_test))\n",
    "print(cross_val_score(lr, X, y, cv=5).mean())"
   ]
  },
  {
   "cell_type": "code",
   "execution_count": 40,
   "metadata": {},
   "outputs": [
    {
     "data": {
      "text/plain": [
       "0.7920501714047087"
      ]
     },
     "execution_count": 40,
     "metadata": {},
     "output_type": "execute_result"
    }
   ],
   "source": [
    "\n",
    "\n",
    "lr.fit(X,y)\n",
    "lr.score(X,y)"
   ]
  },
  {
   "cell_type": "code",
   "execution_count": null,
   "metadata": {},
   "outputs": [],
   "source": []
  },
  {
   "cell_type": "markdown",
   "metadata": {},
   "source": [
    "## Generate Prediction Submission\n"
   ]
  },
  {
   "cell_type": "code",
   "execution_count": 41,
   "metadata": {},
   "outputs": [],
   "source": [
    "test_features = test[top_25_corr.index[1:10]]\n",
    "test_preds = lr.predict(test_features)"
   ]
  },
  {
   "cell_type": "code",
   "execution_count": 42,
   "metadata": {},
   "outputs": [],
   "source": [
    "# df2 = pd.DataFrame({\n",
    "#     'Id':test['Id'],\n",
    "#     'SalePrice': test_preds\n",
    "# })"
   ]
  },
  {
   "cell_type": "code",
   "execution_count": 43,
   "metadata": {},
   "outputs": [],
   "source": [
    "# df2.to_csv('sample_predictions.csv', index=False)"
   ]
  },
  {
   "cell_type": "markdown",
   "metadata": {},
   "source": [
    "## Finding my ideal prediction values"
   ]
  },
  {
   "cell_type": "code",
   "execution_count": 44,
   "metadata": {},
   "outputs": [],
   "source": [
    "X = df.drop('SalePrice', axis=1)\n",
    "y = df['SalePrice']"
   ]
  },
  {
   "cell_type": "code",
   "execution_count": 45,
   "metadata": {},
   "outputs": [],
   "source": [
    "def kleaning(x_data):\n",
    "    preclean = x_data.select_dtypes(['number']) # .drop('SalePrice',axis=1)   # Done initially should split afterwards for reusability purposes\n",
    "    # preclean.isnull().sum()       # In case these need to be changed in later models\n",
    "    try: \n",
    "        dropped_clean = preclean.drop(['Lot Frontage', 'Garage Yr Blt', 'Mas Vnr Area'], axis=1)\n",
    "    except:\n",
    "        dropped_clean = preclean\n",
    "    filled = pd.DataFrame(columns= dropped_clean.columns)\n",
    "    for column in dropped_clean.columns:\n",
    "        filled[column] = dropped_clean[column].fillna(dropped_clean[column].mean()) \n",
    "    return filled\n",
    "\n",
    "def polly(x_data):\n",
    "    # Clean Data using kleaning method\n",
    "    klean_train = kleaning(x_data)\n",
    "    # Split the X and y.\n",
    "    try:\n",
    "        klean_X = klean_train.drop('SalePrice', axis=1)\n",
    "        \n",
    "    except:\n",
    "        klean_X = klean_train\n",
    "    # klean_y = klean_train['SalePrice']\n",
    "    \n",
    "    # Instantiate PolyNomial\n",
    "    poly = PolynomialFeatures(include_bias=False)\n",
    "    \n",
    "    # fit polynomial\n",
    "    poly.fit_transform(klean_X)\n",
    "    poly_klean_data = poly.transform(klean_X)\n",
    "    \n",
    "    # Generate return DataFrame\n",
    "    poly_klean_X = pd.DataFrame(poly_klean_data, columns=poly.get_feature_names(klean_X.columns))\n",
    "    \n",
    "    return poly_klean_X"
   ]
  },
  {
   "cell_type": "code",
   "execution_count": 46,
   "metadata": {},
   "outputs": [],
   "source": [
    "poly_klean_test_X = polly(all_test_dummies)\n",
    "poly_klean_X = polly(all_train_dummies)\n",
    "ss = StandardScaler()\n",
    "ss_poly_klean_X = ss.fit_transform(poly_klean_X)\n",
    "ss_poly_klean_test = ss.fit_transform(poly_klean_test_X)"
   ]
  },
  {
   "cell_type": "markdown",
   "metadata": {},
   "source": [
    "#### Finding the most correlated values after polynomial"
   ]
  },
  {
   "cell_type": "code",
   "execution_count": null,
   "metadata": {},
   "outputs": [],
   "source": [
    "pre_corr_data = pd.merge(right=poly_klean_X,\n",
    "                        left=train,\n",
    "                        copy=False)\n",
    "klean_corr =  pre_corr_data.corr()\n",
    "top_25_corr = (klean_corr[['SalePrice']]\n",
    "                    .sort_values(by='SalePrice',\n",
    "                                ascending=False)\n",
    "                    .head(100))\n",
    "neg_25_corr = (klean_corr[['SalePrice']]\n",
    "                    .sort_values(by='SalePrice',\n",
    "                                ascending=True)\n",
    "                    .head(25))"
   ]
  },
  {
   "cell_type": "code",
   "execution_count": null,
   "metadata": {},
   "outputs": [],
   "source": [
    "plt.figure(figsize=(1,10))\n",
    "sns.heatmap(top_25_corr,\n",
    "            annot=True,\n",
    "            cmap='coolwarm',\n",
    "            vmin=-1);"
   ]
  },
  {
   "cell_type": "code",
   "execution_count": null,
   "metadata": {},
   "outputs": [],
   "source": []
  },
  {
   "cell_type": "code",
   "execution_count": null,
   "metadata": {},
   "outputs": [],
   "source": []
  },
  {
   "cell_type": "markdown",
   "metadata": {},
   "source": [
    "# currently here"
   ]
  },
  {
   "cell_type": "code",
   "execution_count": null,
   "metadata": {},
   "outputs": [],
   "source": [
    "lr = LinearRegression()\n",
    "lr.fit(formodel_poly_X, y)\n",
    "print(cross_val_score(lr, formodel_poly_X, y, cv=5).mean())\n",
    "\n",
    "    predicts_poly = lr.predict()\n",
    "predicts_poly.head()"
   ]
  },
  {
   "cell_type": "code",
   "execution_count": null,
   "metadata": {},
   "outputs": [],
   "source": [
    "# df3 = pd.DataFrame({\n",
    "#     'Id':test['Id'],\n",
    "#     'SalePrice': predicts_poly\n",
    "# })\n",
    "# df3.to_csv('test2_predictions.csv', index=False)"
   ]
  },
  {
   "cell_type": "code",
   "execution_count": null,
   "metadata": {},
   "outputs": [],
   "source": [
    "poly = PolynomialFeatures(include_bias=False)\n",
    "\n",
    "X_train_poly = kleaning(X)z\n",
    "\n",
    "poly.fit_transform(X_train_poly)\n",
    "\n",
    "X_train_poly_data = poly.transform(X_train_poly)\n",
    "poly_df = pd.DataFrame(X_train_poly, columns=poly.get_feature_names(filled.columns))"
   ]
  },
  {
   "cell_type": "code",
   "execution_count": 54,
   "metadata": {},
   "outputs": [
    {
     "data": {
      "text/plain": [
       "Index(['Id', 'PID', 'MS SubClass', 'Lot Area', 'Overall Qual', 'Overall Cond',\n",
       "       'Year Built', 'Year Remod/Add', 'BsmtFin SF 1', 'BsmtFin SF 2',\n",
       "       ...\n",
       "       'Pool Area^2', 'Pool Area Misc Val', 'Pool Area Mo Sold',\n",
       "       'Pool Area Yr Sold', 'Misc Val^2', 'Misc Val Mo Sold',\n",
       "       'Misc Val Yr Sold', 'Mo Sold^2', 'Mo Sold Yr Sold', 'Yr Sold^2'],\n",
       "      dtype='object', length=665)"
      ]
     },
     "execution_count": 54,
     "metadata": {},
     "output_type": "execute_result"
    }
   ],
   "source": [
    "poly_df.columns"
   ]
  },
  {
   "cell_type": "code",
   "execution_count": 1,
   "metadata": {},
   "outputs": [
    {
     "ename": "NameError",
     "evalue": "name 'pd' is not defined",
     "output_type": "error",
     "traceback": [
      "\u001b[0;31m---------------------------------------------------------------------------\u001b[0m",
      "\u001b[0;31mNameError\u001b[0m                                 Traceback (most recent call last)",
      "\u001b[0;32m<ipython-input-1-c07858164639>\u001b[0m in \u001b[0;36m<module>\u001b[0;34m\u001b[0m\n\u001b[0;32m----> 1\u001b[0;31m \u001b[0mtrain_all_pf\u001b[0m \u001b[0;34m=\u001b[0m \u001b[0mpd\u001b[0m\u001b[0;34m.\u001b[0m\u001b[0mmerge\u001b[0m\u001b[0;34m(\u001b[0m\u001b[0mright\u001b[0m\u001b[0;34m=\u001b[0m\u001b[0my\u001b[0m\u001b[0;34m,\u001b[0m \u001b[0mleft\u001b[0m\u001b[0;34m=\u001b[0m\u001b[0mpoly_df\u001b[0m\u001b[0;34m,\u001b[0m \u001b[0mon\u001b[0m\u001b[0;34m=\u001b[0m\u001b[0;34m[\u001b[0m\u001b[0;34m'Id'\u001b[0m\u001b[0;34m]\u001b[0m\u001b[0;34m)\u001b[0m\u001b[0;34m\u001b[0m\u001b[0;34m\u001b[0m\u001b[0m\n\u001b[0m\u001b[1;32m      2\u001b[0m \u001b[0msns\u001b[0m\u001b[0;34m.\u001b[0m\u001b[0mheatmap\u001b[0m\u001b[0;34m(\u001b[0m\u001b[0mtrain_all_pf\u001b[0m\u001b[0;34m)\u001b[0m\u001b[0;34m\u001b[0m\u001b[0;34m\u001b[0m\u001b[0m\n",
      "\u001b[0;31mNameError\u001b[0m: name 'pd' is not defined"
     ]
    }
   ],
   "source": [
    "train_all_pf = pd.merge(right=y, left=poly_df, on=['Id'])\n",
    "sns.heatmap(train_all_pf)"
   ]
  },
  {
   "cell_type": "code",
   "execution_count": null,
   "metadata": {},
   "outputs": [],
   "source": []
  }
 ],
 "metadata": {
  "kernelspec": {
   "display_name": "Python 3",
   "language": "python",
   "name": "python3"
  },
  "language_info": {
   "codemirror_mode": {
    "name": "ipython",
    "version": 3
   },
   "file_extension": ".py",
   "mimetype": "text/x-python",
   "name": "python",
   "nbconvert_exporter": "python",
   "pygments_lexer": "ipython3",
   "version": "3.7.6"
  }
 },
 "nbformat": 4,
 "nbformat_minor": 4
}
